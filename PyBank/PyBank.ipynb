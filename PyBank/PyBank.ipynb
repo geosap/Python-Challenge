{
 "cells": [
  {
   "cell_type": "code",
   "execution_count": 8,
   "metadata": {},
   "outputs": [
    {
     "name": "stdout",
     "output_type": "stream",
     "text": [
      "'''text\n",
      "Financial Analysis\n",
      "-------------------\n",
      "Total Months: 86\n",
      "Total:, $38,382,578\n",
      "Average Change:, $-2,315.12\n",
      "Greatest Increase in Profits :Feb-12,$1,926,159.00\n",
      "Greatest Decrease in Profits :Sep-13,$-2,196,167.00\n",
      "'''\n"
     ]
    }
   ],
   "source": [
    "import csv \n",
    "\n",
    "tmonths = 0\n",
    "tmonths_list = []\n",
    "netchangelist =[]\n",
    "tprofit_loss_list = []\n",
    "net_profit_loss = 0\n",
    "greatest_in = [\"\", 0]\n",
    "greatest_de = [\"\", 999999]\n",
    "\n",
    "#The total number of months included in the dataset\n",
    "with open(\"budget_data.csv\",\"r\") as csv_file:\n",
    "    csvreader = csv.reader(csv_file, delimiter=\",\")\n",
    "    csvheader = next(csvreader)\n",
    "    f_row = next(csvreader)\n",
    "    tmonths += 1\n",
    "    net_profit_loss += int(f_row[1])\n",
    "    pre_netchange = int(f_row[1])\n",
    "    \n",
    "    for row in csvreader:\n",
    "        tmonths += 1\n",
    "        net_profit_loss += int(row[1])\n",
    "        netchange = int(row[1])- pre_netchange\n",
    "        pre_netchange = int(row[1])\n",
    "        netchangelist.append(netchange)\n",
    "        tmonths_list.append(row[0])\n",
    "        tprofit_loss_list.append(int(row[1]))\n",
    "        \n",
    "        if netchange > greatest_in[1]:\n",
    "            greatest_in[1] = netchange\n",
    "            greatest_in[0] = row[0]\n",
    "            \n",
    "        if netchange < greatest_de[1]:\n",
    "            greatest_de[1] = netchange\n",
    "            greatest_de[0] = row[0]          \n",
    "\n",
    "avgchange = round(sum(netchangelist)/len(netchangelist),2)\n",
    "\n",
    "print(\"'''text\")\n",
    "print(\"Financial Analysis\")\n",
    "print(\"-------------------\")\n",
    "print(f\"Total Months:\",tmonths)\n",
    "print(f\"Total:, ${net_profit_loss:,}\")\n",
    "print(f\"Average Change:, ${avgchange:,.2f}\")\n",
    "print(f\"Greatest Increase in Profits :{greatest_in[0]},${greatest_in[1]:,.2f}\")\n",
    "print(f\"Greatest Decrease in Profits :{greatest_de[0]},${greatest_de[1]:,.2f}\")\n",
    "print(\"'''\")"
   ]
  },
  {
   "cell_type": "code",
   "execution_count": null,
   "metadata": {},
   "outputs": [],
   "source": []
  }
 ],
 "metadata": {
  "kernelspec": {
   "display_name": "Python 3",
   "language": "python",
   "name": "python3"
  },
  "language_info": {
   "codemirror_mode": {
    "name": "ipython",
    "version": 3
   },
   "file_extension": ".py",
   "mimetype": "text/x-python",
   "name": "python",
   "nbconvert_exporter": "python",
   "pygments_lexer": "ipython3",
   "version": "3.7.6"
  }
 },
 "nbformat": 4,
 "nbformat_minor": 4
}
