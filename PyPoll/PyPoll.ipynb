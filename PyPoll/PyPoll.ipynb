{
 "cells": [
  {
   "cell_type": "code",
   "execution_count": 1,
   "metadata": {},
   "outputs": [
    {
     "name": "stdout",
     "output_type": "stream",
     "text": [
      "Election Results\n",
      "===================\n",
      "Total Votes: 3521001\n",
      "===================\n",
      "Khan:63.0% :2218231\n",
      "Correy:20.0% :704200\n",
      "Li:14.0% :492940\n",
      "O'Tooley:3.0% :105630\n",
      "===================\n",
      "Winner: KHAN\n",
      "===================\n"
     ]
    }
   ],
   "source": [
    "import csv\n",
    "\n",
    "tvotes = 0\n",
    "unique_candidate = []  \n",
    "candidate_tvotes = {}  \n",
    "current_tvoterid = 0\n",
    "votepct = []\n",
    "\n",
    "with open(\"election_data.csv\",\"r\") as csv_file:\n",
    "    csvreader = csv.reader(csv_file, delimiter=\",\")\n",
    "    csvheader = next(csvreader)\n",
    "    \n",
    "    for row in csvreader:\n",
    "        tvotes += 1\n",
    "        current_candidate = row[2]\n",
    "                \n",
    "        if current_candidate not in unique_candidate:\n",
    "            candidate_index = unique_candidate.append(current_candidate)\n",
    "            candidate_tvotes[current_candidate] = 0\n",
    "        candidate_tvotes[current_candidate] = candidate_tvotes[current_candidate ]+ 1\n",
    "\n",
    "max_votes = 0\n",
    "winner = \" \"\n",
    "        \n",
    "print(\"Election Results\")\n",
    "print('===================')\n",
    "print(f\"Total Votes:\", tvotes)\n",
    "print('===================')\n",
    "\n",
    "for candidate in  unique_candidate:\n",
    "    total = candidate_tvotes[candidate]\n",
    "    pct = round( 100* candidate_tvotes[candidate] / tvotes, 2)\n",
    "    if candidate_tvotes[candidate] > max_votes:\n",
    "        max_votes = candidate_tvotes[candidate]\n",
    "        winner = candidate\n",
    "        \n",
    "    print (f\"{candidate}:{pct}% :{total}\")\n",
    "    election_winner = winner\n",
    "    \n",
    "print('===================')\n",
    "print(f\"Winner: {election_winner.upper()}\")\n",
    "print('===================')"
   ]
  }
 ],
 "metadata": {
  "kernelspec": {
   "display_name": "Python 3",
   "language": "python",
   "name": "python3"
  },
  "language_info": {
   "codemirror_mode": {
    "name": "ipython",
    "version": 3
   },
   "file_extension": ".py",
   "mimetype": "text/x-python",
   "name": "python",
   "nbconvert_exporter": "python",
   "pygments_lexer": "ipython3",
   "version": "3.7.6"
  }
 },
 "nbformat": 4,
 "nbformat_minor": 4
}
